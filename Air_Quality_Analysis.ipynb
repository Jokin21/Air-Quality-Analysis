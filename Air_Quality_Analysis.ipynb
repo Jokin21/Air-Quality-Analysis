{
 "cells": [
  {
   "cell_type": "markdown",
   "id": "c9a52d78",
   "metadata": {},
   "source": [
    "# Air Quality analysis in India"
   ]
  },
  {
   "cell_type": "code",
   "execution_count": 39,
   "id": "923c3e2c",
   "metadata": {},
   "outputs": [],
   "source": [
    "# Importing Libraries.\n",
    "\n",
    "import pandas as pd\n",
    "import numpy as np\n",
    "import seaborn as sns\n",
    "import matplotlib.pyplot as plt"
   ]
  },
  {
   "cell_type": "code",
   "execution_count": 2,
   "id": "e2d0149d",
   "metadata": {},
   "outputs": [],
   "source": [
    "# Importing dataset.\n",
    "\n",
    "df=pd.read_csv('data.csv',encoding = \"ISO-8859-1\",low_memory=False)"
   ]
  },
  {
   "cell_type": "code",
   "execution_count": 3,
   "id": "25446de1",
   "metadata": {},
   "outputs": [
    {
     "data": {
      "text/html": [
       "<div>\n",
       "<style scoped>\n",
       "    .dataframe tbody tr th:only-of-type {\n",
       "        vertical-align: middle;\n",
       "    }\n",
       "\n",
       "    .dataframe tbody tr th {\n",
       "        vertical-align: top;\n",
       "    }\n",
       "\n",
       "    .dataframe thead th {\n",
       "        text-align: right;\n",
       "    }\n",
       "</style>\n",
       "<table border=\"1\" class=\"dataframe\">\n",
       "  <thead>\n",
       "    <tr style=\"text-align: right;\">\n",
       "      <th></th>\n",
       "      <th>stn_code</th>\n",
       "      <th>sampling_date</th>\n",
       "      <th>state</th>\n",
       "      <th>location</th>\n",
       "      <th>agency</th>\n",
       "      <th>type</th>\n",
       "      <th>so2</th>\n",
       "      <th>no2</th>\n",
       "      <th>rspm</th>\n",
       "      <th>spm</th>\n",
       "      <th>location_monitoring_station</th>\n",
       "      <th>pm2_5</th>\n",
       "      <th>date</th>\n",
       "    </tr>\n",
       "  </thead>\n",
       "  <tbody>\n",
       "    <tr>\n",
       "      <th>0</th>\n",
       "      <td>150</td>\n",
       "      <td>February - M021990</td>\n",
       "      <td>Andhra Pradesh</td>\n",
       "      <td>Hyderabad</td>\n",
       "      <td>NaN</td>\n",
       "      <td>Residential, Rural and other Areas</td>\n",
       "      <td>4.8</td>\n",
       "      <td>17.4</td>\n",
       "      <td>NaN</td>\n",
       "      <td>NaN</td>\n",
       "      <td>NaN</td>\n",
       "      <td>NaN</td>\n",
       "      <td>01-02-1990</td>\n",
       "    </tr>\n",
       "    <tr>\n",
       "      <th>1</th>\n",
       "      <td>151</td>\n",
       "      <td>February - M021990</td>\n",
       "      <td>Andhra Pradesh</td>\n",
       "      <td>Hyderabad</td>\n",
       "      <td>NaN</td>\n",
       "      <td>Industrial Area</td>\n",
       "      <td>3.1</td>\n",
       "      <td>7.0</td>\n",
       "      <td>NaN</td>\n",
       "      <td>NaN</td>\n",
       "      <td>NaN</td>\n",
       "      <td>NaN</td>\n",
       "      <td>01-02-1990</td>\n",
       "    </tr>\n",
       "    <tr>\n",
       "      <th>2</th>\n",
       "      <td>152</td>\n",
       "      <td>February - M021990</td>\n",
       "      <td>Andhra Pradesh</td>\n",
       "      <td>Hyderabad</td>\n",
       "      <td>NaN</td>\n",
       "      <td>Residential, Rural and other Areas</td>\n",
       "      <td>6.2</td>\n",
       "      <td>28.5</td>\n",
       "      <td>NaN</td>\n",
       "      <td>NaN</td>\n",
       "      <td>NaN</td>\n",
       "      <td>NaN</td>\n",
       "      <td>01-02-1990</td>\n",
       "    </tr>\n",
       "    <tr>\n",
       "      <th>3</th>\n",
       "      <td>150</td>\n",
       "      <td>March - M031990</td>\n",
       "      <td>Andhra Pradesh</td>\n",
       "      <td>Hyderabad</td>\n",
       "      <td>NaN</td>\n",
       "      <td>Residential, Rural and other Areas</td>\n",
       "      <td>6.3</td>\n",
       "      <td>14.7</td>\n",
       "      <td>NaN</td>\n",
       "      <td>NaN</td>\n",
       "      <td>NaN</td>\n",
       "      <td>NaN</td>\n",
       "      <td>01-03-1990</td>\n",
       "    </tr>\n",
       "    <tr>\n",
       "      <th>4</th>\n",
       "      <td>151</td>\n",
       "      <td>March - M031990</td>\n",
       "      <td>Andhra Pradesh</td>\n",
       "      <td>Hyderabad</td>\n",
       "      <td>NaN</td>\n",
       "      <td>Industrial Area</td>\n",
       "      <td>4.7</td>\n",
       "      <td>7.5</td>\n",
       "      <td>NaN</td>\n",
       "      <td>NaN</td>\n",
       "      <td>NaN</td>\n",
       "      <td>NaN</td>\n",
       "      <td>01-03-1990</td>\n",
       "    </tr>\n",
       "  </tbody>\n",
       "</table>\n",
       "</div>"
      ],
      "text/plain": [
       "  stn_code       sampling_date           state   location agency  \\\n",
       "0      150  February - M021990  Andhra Pradesh  Hyderabad    NaN   \n",
       "1      151  February - M021990  Andhra Pradesh  Hyderabad    NaN   \n",
       "2      152  February - M021990  Andhra Pradesh  Hyderabad    NaN   \n",
       "3      150     March - M031990  Andhra Pradesh  Hyderabad    NaN   \n",
       "4      151     March - M031990  Andhra Pradesh  Hyderabad    NaN   \n",
       "\n",
       "                                 type  so2   no2  rspm  spm  \\\n",
       "0  Residential, Rural and other Areas  4.8  17.4   NaN  NaN   \n",
       "1                     Industrial Area  3.1   7.0   NaN  NaN   \n",
       "2  Residential, Rural and other Areas  6.2  28.5   NaN  NaN   \n",
       "3  Residential, Rural and other Areas  6.3  14.7   NaN  NaN   \n",
       "4                     Industrial Area  4.7   7.5   NaN  NaN   \n",
       "\n",
       "  location_monitoring_station  pm2_5        date  \n",
       "0                         NaN    NaN  01-02-1990  \n",
       "1                         NaN    NaN  01-02-1990  \n",
       "2                         NaN    NaN  01-02-1990  \n",
       "3                         NaN    NaN  01-03-1990  \n",
       "4                         NaN    NaN  01-03-1990  "
      ]
     },
     "execution_count": 3,
     "metadata": {},
     "output_type": "execute_result"
    }
   ],
   "source": [
    "df.head()"
   ]
  },
  {
   "cell_type": "markdown",
   "id": "21be11ad",
   "metadata": {},
   "source": [
    "## Data Description:\n",
    "\n",
    "*  **1.stn_code :** Station code. A code is given to each station that recorded the data.\n",
    "*  **2.sampling_date:** The date when the data was recorded.\n",
    "*  **3.state:** It represents the states whose air quality data is measured.\n",
    "*  **4.location:** It represents the city whose air quality data is measured.\n",
    "*  **5.agency:** Name of the agency that measured the data.\n",
    "*  **6.type:** The type of area where the measurement was made.\n",
    "*  **7.so2:** The amount of Sulphur Dioxide measured.\n",
    "*  **8.no2:** The amount of Nitrogen Dioxide measured\n",
    "*  **9.rspm:** Respirable Suspended Particulate Matter measured.\n",
    "*  **10.spm:** Suspended Particulate Matter measured.\n",
    "*  **11.location_monitoring_station:** It indicates the location of the monitoring area.\n",
    "*  **12.pm2_5:** It represents the value of particulate matter measured.\n",
    "*  **13.date:** It represents the date of recording (It is a cleaner version of ‘sampling_date’ feature)"
   ]
  },
  {
   "cell_type": "code",
   "execution_count": 4,
   "id": "590a04ae",
   "metadata": {},
   "outputs": [
    {
     "name": "stdout",
     "output_type": "stream",
     "text": [
      "<class 'pandas.core.frame.DataFrame'>\n",
      "RangeIndex: 435742 entries, 0 to 435741\n",
      "Data columns (total 13 columns):\n",
      " #   Column                       Non-Null Count   Dtype  \n",
      "---  ------                       --------------   -----  \n",
      " 0   stn_code                     291665 non-null  object \n",
      " 1   sampling_date                435739 non-null  object \n",
      " 2   state                        435742 non-null  object \n",
      " 3   location                     435739 non-null  object \n",
      " 4   agency                       286261 non-null  object \n",
      " 5   type                         430349 non-null  object \n",
      " 6   so2                          401096 non-null  float64\n",
      " 7   no2                          419509 non-null  float64\n",
      " 8   rspm                         395520 non-null  float64\n",
      " 9   spm                          198355 non-null  float64\n",
      " 10  location_monitoring_station  408251 non-null  object \n",
      " 11  pm2_5                        9314 non-null    float64\n",
      " 12  date                         435735 non-null  object \n",
      "dtypes: float64(5), object(8)\n",
      "memory usage: 43.2+ MB\n"
     ]
    }
   ],
   "source": [
    "# Analysing the dataset.\n",
    "\n",
    "df.info()"
   ]
  },
  {
   "cell_type": "code",
   "execution_count": 5,
   "id": "d1e8b6a9",
   "metadata": {},
   "outputs": [
    {
     "data": {
      "text/html": [
       "<div>\n",
       "<style scoped>\n",
       "    .dataframe tbody tr th:only-of-type {\n",
       "        vertical-align: middle;\n",
       "    }\n",
       "\n",
       "    .dataframe tbody tr th {\n",
       "        vertical-align: top;\n",
       "    }\n",
       "\n",
       "    .dataframe thead th {\n",
       "        text-align: right;\n",
       "    }\n",
       "</style>\n",
       "<table border=\"1\" class=\"dataframe\">\n",
       "  <thead>\n",
       "    <tr style=\"text-align: right;\">\n",
       "      <th></th>\n",
       "      <th>stn_code</th>\n",
       "      <th>sampling_date</th>\n",
       "      <th>state</th>\n",
       "      <th>location</th>\n",
       "      <th>agency</th>\n",
       "      <th>type</th>\n",
       "      <th>so2</th>\n",
       "      <th>no2</th>\n",
       "      <th>rspm</th>\n",
       "      <th>spm</th>\n",
       "      <th>location_monitoring_station</th>\n",
       "      <th>pm2_5</th>\n",
       "      <th>date</th>\n",
       "    </tr>\n",
       "  </thead>\n",
       "  <tbody>\n",
       "    <tr>\n",
       "      <th>count</th>\n",
       "      <td>291665</td>\n",
       "      <td>435739</td>\n",
       "      <td>435742</td>\n",
       "      <td>435739</td>\n",
       "      <td>286261</td>\n",
       "      <td>430349</td>\n",
       "      <td>401096.000000</td>\n",
       "      <td>419509.000000</td>\n",
       "      <td>395520.000000</td>\n",
       "      <td>198355.000000</td>\n",
       "      <td>408251</td>\n",
       "      <td>9314.000000</td>\n",
       "      <td>435735</td>\n",
       "    </tr>\n",
       "    <tr>\n",
       "      <th>unique</th>\n",
       "      <td>745</td>\n",
       "      <td>5071</td>\n",
       "      <td>37</td>\n",
       "      <td>304</td>\n",
       "      <td>64</td>\n",
       "      <td>10</td>\n",
       "      <td>NaN</td>\n",
       "      <td>NaN</td>\n",
       "      <td>NaN</td>\n",
       "      <td>NaN</td>\n",
       "      <td>991</td>\n",
       "      <td>NaN</td>\n",
       "      <td>5067</td>\n",
       "    </tr>\n",
       "    <tr>\n",
       "      <th>top</th>\n",
       "      <td>193</td>\n",
       "      <td>19-03-2015</td>\n",
       "      <td>Maharashtra</td>\n",
       "      <td>Guwahati</td>\n",
       "      <td>Maharashtra State Pollution Control Board</td>\n",
       "      <td>Residential, Rural and other Areas</td>\n",
       "      <td>NaN</td>\n",
       "      <td>NaN</td>\n",
       "      <td>NaN</td>\n",
       "      <td>NaN</td>\n",
       "      <td>Regional Office</td>\n",
       "      <td>NaN</td>\n",
       "      <td>19-03-2015</td>\n",
       "    </tr>\n",
       "    <tr>\n",
       "      <th>freq</th>\n",
       "      <td>1428</td>\n",
       "      <td>253</td>\n",
       "      <td>60384</td>\n",
       "      <td>9984</td>\n",
       "      <td>27857</td>\n",
       "      <td>179014</td>\n",
       "      <td>NaN</td>\n",
       "      <td>NaN</td>\n",
       "      <td>NaN</td>\n",
       "      <td>NaN</td>\n",
       "      <td>6261</td>\n",
       "      <td>NaN</td>\n",
       "      <td>253</td>\n",
       "    </tr>\n",
       "    <tr>\n",
       "      <th>mean</th>\n",
       "      <td>NaN</td>\n",
       "      <td>NaN</td>\n",
       "      <td>NaN</td>\n",
       "      <td>NaN</td>\n",
       "      <td>NaN</td>\n",
       "      <td>NaN</td>\n",
       "      <td>10.829414</td>\n",
       "      <td>25.809623</td>\n",
       "      <td>108.832784</td>\n",
       "      <td>220.783480</td>\n",
       "      <td>NaN</td>\n",
       "      <td>40.791467</td>\n",
       "      <td>NaN</td>\n",
       "    </tr>\n",
       "    <tr>\n",
       "      <th>std</th>\n",
       "      <td>NaN</td>\n",
       "      <td>NaN</td>\n",
       "      <td>NaN</td>\n",
       "      <td>NaN</td>\n",
       "      <td>NaN</td>\n",
       "      <td>NaN</td>\n",
       "      <td>11.177187</td>\n",
       "      <td>18.503086</td>\n",
       "      <td>74.872430</td>\n",
       "      <td>151.395457</td>\n",
       "      <td>NaN</td>\n",
       "      <td>30.832525</td>\n",
       "      <td>NaN</td>\n",
       "    </tr>\n",
       "    <tr>\n",
       "      <th>min</th>\n",
       "      <td>NaN</td>\n",
       "      <td>NaN</td>\n",
       "      <td>NaN</td>\n",
       "      <td>NaN</td>\n",
       "      <td>NaN</td>\n",
       "      <td>NaN</td>\n",
       "      <td>0.000000</td>\n",
       "      <td>0.000000</td>\n",
       "      <td>0.000000</td>\n",
       "      <td>0.000000</td>\n",
       "      <td>NaN</td>\n",
       "      <td>3.000000</td>\n",
       "      <td>NaN</td>\n",
       "    </tr>\n",
       "    <tr>\n",
       "      <th>25%</th>\n",
       "      <td>NaN</td>\n",
       "      <td>NaN</td>\n",
       "      <td>NaN</td>\n",
       "      <td>NaN</td>\n",
       "      <td>NaN</td>\n",
       "      <td>NaN</td>\n",
       "      <td>5.000000</td>\n",
       "      <td>14.000000</td>\n",
       "      <td>56.000000</td>\n",
       "      <td>111.000000</td>\n",
       "      <td>NaN</td>\n",
       "      <td>24.000000</td>\n",
       "      <td>NaN</td>\n",
       "    </tr>\n",
       "    <tr>\n",
       "      <th>50%</th>\n",
       "      <td>NaN</td>\n",
       "      <td>NaN</td>\n",
       "      <td>NaN</td>\n",
       "      <td>NaN</td>\n",
       "      <td>NaN</td>\n",
       "      <td>NaN</td>\n",
       "      <td>8.000000</td>\n",
       "      <td>22.000000</td>\n",
       "      <td>90.000000</td>\n",
       "      <td>187.000000</td>\n",
       "      <td>NaN</td>\n",
       "      <td>32.000000</td>\n",
       "      <td>NaN</td>\n",
       "    </tr>\n",
       "    <tr>\n",
       "      <th>75%</th>\n",
       "      <td>NaN</td>\n",
       "      <td>NaN</td>\n",
       "      <td>NaN</td>\n",
       "      <td>NaN</td>\n",
       "      <td>NaN</td>\n",
       "      <td>NaN</td>\n",
       "      <td>13.700000</td>\n",
       "      <td>32.200000</td>\n",
       "      <td>142.000000</td>\n",
       "      <td>296.000000</td>\n",
       "      <td>NaN</td>\n",
       "      <td>46.000000</td>\n",
       "      <td>NaN</td>\n",
       "    </tr>\n",
       "    <tr>\n",
       "      <th>max</th>\n",
       "      <td>NaN</td>\n",
       "      <td>NaN</td>\n",
       "      <td>NaN</td>\n",
       "      <td>NaN</td>\n",
       "      <td>NaN</td>\n",
       "      <td>NaN</td>\n",
       "      <td>909.000000</td>\n",
       "      <td>876.000000</td>\n",
       "      <td>6307.033333</td>\n",
       "      <td>3380.000000</td>\n",
       "      <td>NaN</td>\n",
       "      <td>504.000000</td>\n",
       "      <td>NaN</td>\n",
       "    </tr>\n",
       "  </tbody>\n",
       "</table>\n",
       "</div>"
      ],
      "text/plain": [
       "       stn_code sampling_date        state  location  \\\n",
       "count    291665        435739       435742    435739   \n",
       "unique      745          5071           37       304   \n",
       "top         193    19-03-2015  Maharashtra  Guwahati   \n",
       "freq       1428           253        60384      9984   \n",
       "mean        NaN           NaN          NaN       NaN   \n",
       "std         NaN           NaN          NaN       NaN   \n",
       "min         NaN           NaN          NaN       NaN   \n",
       "25%         NaN           NaN          NaN       NaN   \n",
       "50%         NaN           NaN          NaN       NaN   \n",
       "75%         NaN           NaN          NaN       NaN   \n",
       "max         NaN           NaN          NaN       NaN   \n",
       "\n",
       "                                           agency  \\\n",
       "count                                      286261   \n",
       "unique                                         64   \n",
       "top     Maharashtra State Pollution Control Board   \n",
       "freq                                        27857   \n",
       "mean                                          NaN   \n",
       "std                                           NaN   \n",
       "min                                           NaN   \n",
       "25%                                           NaN   \n",
       "50%                                           NaN   \n",
       "75%                                           NaN   \n",
       "max                                           NaN   \n",
       "\n",
       "                                      type            so2            no2  \\\n",
       "count                               430349  401096.000000  419509.000000   \n",
       "unique                                  10            NaN            NaN   \n",
       "top     Residential, Rural and other Areas            NaN            NaN   \n",
       "freq                                179014            NaN            NaN   \n",
       "mean                                   NaN      10.829414      25.809623   \n",
       "std                                    NaN      11.177187      18.503086   \n",
       "min                                    NaN       0.000000       0.000000   \n",
       "25%                                    NaN       5.000000      14.000000   \n",
       "50%                                    NaN       8.000000      22.000000   \n",
       "75%                                    NaN      13.700000      32.200000   \n",
       "max                                    NaN     909.000000     876.000000   \n",
       "\n",
       "                 rspm            spm location_monitoring_station        pm2_5  \\\n",
       "count   395520.000000  198355.000000                      408251  9314.000000   \n",
       "unique            NaN            NaN                         991          NaN   \n",
       "top               NaN            NaN             Regional Office          NaN   \n",
       "freq              NaN            NaN                        6261          NaN   \n",
       "mean       108.832784     220.783480                         NaN    40.791467   \n",
       "std         74.872430     151.395457                         NaN    30.832525   \n",
       "min          0.000000       0.000000                         NaN     3.000000   \n",
       "25%         56.000000     111.000000                         NaN    24.000000   \n",
       "50%         90.000000     187.000000                         NaN    32.000000   \n",
       "75%        142.000000     296.000000                         NaN    46.000000   \n",
       "max       6307.033333    3380.000000                         NaN   504.000000   \n",
       "\n",
       "              date  \n",
       "count       435735  \n",
       "unique        5067  \n",
       "top     19-03-2015  \n",
       "freq           253  \n",
       "mean           NaN  \n",
       "std            NaN  \n",
       "min            NaN  \n",
       "25%            NaN  \n",
       "50%            NaN  \n",
       "75%            NaN  \n",
       "max            NaN  "
      ]
     },
     "execution_count": 5,
     "metadata": {},
     "output_type": "execute_result"
    }
   ],
   "source": [
    "df.describe(include='all')\n",
    "\n",
    "# In describe we can see lots of null values present in the dataset."
   ]
  },
  {
   "cell_type": "markdown",
   "id": "f8bbb507",
   "metadata": {},
   "source": [
    "## Data modification"
   ]
  },
  {
   "cell_type": "code",
   "execution_count": 6,
   "id": "79e794fb",
   "metadata": {},
   "outputs": [],
   "source": [
    "# As we have the same values like Residential, Industries, Sensitive we can replace 10 values into 3 values.\n",
    "\n",
    "df['type'].replace('Residential, Rural and other Areas','Residential',inplace = True)\n",
    "df['type'].replace('Residential and others','Residential',inplace = True)\n",
    "df['type'].replace('Industrial Areas','Industrial',inplace = True)\n",
    "df['type'].replace('Industrial Area','Industrial',inplace = True)\n",
    "df['type'].replace('Sensitive Area','Sensitive',inplace = True)\n",
    "df['type'].replace('Sensitive Areas','Sensitive',inplace = True)\n"
   ]
  },
  {
   "cell_type": "markdown",
   "id": "1999b8d2",
   "metadata": {},
   "source": [
    "## Handling null values"
   ]
  },
  {
   "cell_type": "code",
   "execution_count": 7,
   "id": "291295e4",
   "metadata": {},
   "outputs": [
    {
     "data": {
      "text/plain": [
       "stn_code                       144077\n",
       "sampling_date                       3\n",
       "state                               0\n",
       "location                            3\n",
       "agency                         149481\n",
       "type                             5393\n",
       "so2                             34646\n",
       "no2                             16233\n",
       "rspm                            40222\n",
       "spm                            237387\n",
       "location_monitoring_station     27491\n",
       "pm2_5                          426428\n",
       "date                                7\n",
       "dtype: int64"
      ]
     },
     "execution_count": 7,
     "metadata": {},
     "output_type": "execute_result"
    }
   ],
   "source": [
    "df.isnull().sum()"
   ]
  },
  {
   "cell_type": "code",
   "execution_count": 8,
   "id": "e1732605",
   "metadata": {},
   "outputs": [
    {
     "data": {
      "text/plain": [
       "(435742, 13)"
      ]
     },
     "execution_count": 8,
     "metadata": {},
     "output_type": "execute_result"
    }
   ],
   "source": [
    "df.shape"
   ]
  },
  {
   "cell_type": "code",
   "execution_count": 9,
   "id": "03ecc6c0",
   "metadata": {},
   "outputs": [
    {
     "data": {
      "text/plain": [
       "stn_code                        745\n",
       "sampling_date                  5071\n",
       "state                            37\n",
       "location                        304\n",
       "agency                           64\n",
       "type                              4\n",
       "so2                            4197\n",
       "no2                            6864\n",
       "rspm                           6065\n",
       "spm                            6668\n",
       "location_monitoring_station     991\n",
       "pm2_5                           433\n",
       "date                           5067\n",
       "dtype: int64"
      ]
     },
     "execution_count": 9,
     "metadata": {},
     "output_type": "execute_result"
    }
   ],
   "source": [
    "df.nunique()"
   ]
  },
  {
   "cell_type": "code",
   "execution_count": 10,
   "id": "8378a27c",
   "metadata": {},
   "outputs": [
    {
     "data": {
      "text/plain": [
       "stn_code                       144077\n",
       "sampling_date                       0\n",
       "state                               0\n",
       "location                            0\n",
       "agency                         149481\n",
       "type                             5393\n",
       "so2                             34646\n",
       "no2                             16233\n",
       "rspm                            40222\n",
       "spm                            237387\n",
       "location_monitoring_station     27491\n",
       "pm2_5                          426428\n",
       "date                                0\n",
       "dtype: int64"
      ]
     },
     "execution_count": 10,
     "metadata": {},
     "output_type": "execute_result"
    }
   ],
   "source": [
    "# As we have the lowest null value in date, location and sampling_date we can fill the value with the forward filling method\n",
    "\n",
    "# Using filling method is not applicable for date column's but in our dataset we have dublicate values in date column also\n",
    "\n",
    "df['date'].fillna(method='ffill',inplace=True)\n",
    "\n",
    "df['location'].fillna(method='ffill',inplace=True)\n",
    "\n",
    "df['sampling_date'].fillna(method='ffill',inplace=True)\n",
    "\n",
    "df.isnull().sum()\n",
    "\n"
   ]
  },
  {
   "cell_type": "markdown",
   "id": "ef4692f2",
   "metadata": {},
   "source": [
    "## Data filteration "
   ]
  },
  {
   "cell_type": "markdown",
   "id": "891291a1",
   "metadata": {},
   "source": [
    "* In rspm and spm column we have to group the null values using the various columns in the dataset that related with this columns like:\n",
    "\n",
    "* 1.location.\n",
    "* 2.type.\n",
    "* 3.date.\n",
    "* 4.state.\n",
    "\n",
    "* From this we can remove the null values by using the related columns.\n",
    "\n",
    "   "
   ]
  },
  {
   "cell_type": "code",
   "execution_count": 11,
   "id": "1adcd960",
   "metadata": {},
   "outputs": [
    {
     "name": "stdout",
     "output_type": "stream",
     "text": [
      "40222\n",
      "237387\n"
     ]
    }
   ],
   "source": [
    "print(df.rspm.isnull().sum())\n",
    "print(df.spm.isnull().sum())"
   ]
  },
  {
   "cell_type": "code",
   "execution_count": 12,
   "id": "aaa2562b",
   "metadata": {},
   "outputs": [],
   "source": [
    "df1 = dict(list(df.groupby(['location','type'])))\n",
    "data = pd.DataFrame()\n",
    "for key in df1:\n",
    "    df2 = df1[key].sort_values('date')\n",
    "    df2['rspm'].fillna(method = 'ffill',inplace = True)\n",
    "    df2['spm'].fillna(method = 'ffill',inplace= True)\n",
    "    data = pd.concat([data,df2])"
   ]
  },
  {
   "cell_type": "code",
   "execution_count": 13,
   "id": "bd173813",
   "metadata": {},
   "outputs": [],
   "source": [
    "df1 = dict(list(data.groupby(['location','type'])))\n",
    "data1 = pd.DataFrame()\n",
    "for key in df1:\n",
    "    df2 = df1[key].sort_values('date')\n",
    "    df2['rspm'].fillna(method = 'bfill',inplace = True)\n",
    "    df2['spm'].fillna(method = 'bfill',inplace= True)\n",
    "    data1 = pd.concat([data1,df2])\n",
    "    "
   ]
  },
  {
   "cell_type": "code",
   "execution_count": 14,
   "id": "de1f1f8c",
   "metadata": {},
   "outputs": [
    {
     "name": "stdout",
     "output_type": "stream",
     "text": [
      "4102\n",
      "47909\n"
     ]
    }
   ],
   "source": [
    "print(data1.rspm.isnull().sum())\n",
    "print(data1.spm.isnull().sum())"
   ]
  },
  {
   "cell_type": "code",
   "execution_count": 15,
   "id": "c7fc1a4f",
   "metadata": {},
   "outputs": [],
   "source": [
    "df1 = dict(list(data1.groupby(['state','type'])))\n",
    "data2 = pd.DataFrame()\n",
    "for key in df1:\n",
    "    df2 = df1[key]\n",
    "    df2['rspm'].fillna(df2['rspm'].median(),inplace = True)\n",
    "    df2['spm'].fillna(df2['spm'].median(),inplace= True)\n",
    "    data2 = pd.concat([data2,df2])"
   ]
  },
  {
   "cell_type": "code",
   "execution_count": 16,
   "id": "c6758a5b",
   "metadata": {},
   "outputs": [
    {
     "name": "stdout",
     "output_type": "stream",
     "text": [
      "182\n",
      "1972\n"
     ]
    }
   ],
   "source": [
    "print(data2.rspm.isnull().sum())\n",
    "print(data2.spm.isnull().sum())"
   ]
  },
  {
   "cell_type": "code",
   "execution_count": 17,
   "id": "f0bc7455",
   "metadata": {},
   "outputs": [],
   "source": [
    "df1 = dict(list(data2.groupby('type')))\n",
    "data3 = pd.DataFrame()\n",
    "for key in df1:\n",
    "    df2 = df1[key]\n",
    "    df2['rspm'].fillna(df2['rspm'].median(),inplace = True)\n",
    "    df2['spm'].fillna(df2['spm'].median(),inplace= True)\n",
    "    data3 = pd.concat([data3,df2])"
   ]
  },
  {
   "cell_type": "code",
   "execution_count": 18,
   "id": "7dac3d42",
   "metadata": {},
   "outputs": [
    {
     "name": "stdout",
     "output_type": "stream",
     "text": [
      "0\n",
      "1304\n"
     ]
    }
   ],
   "source": [
    "print(data3.rspm.isnull().sum())\n",
    "print(data3.spm.isnull().sum())"
   ]
  },
  {
   "cell_type": "code",
   "execution_count": 19,
   "id": "44319b20",
   "metadata": {},
   "outputs": [],
   "source": [
    "data3['spm'].fillna(method='ffill',inplace=True)\n"
   ]
  },
  {
   "cell_type": "code",
   "execution_count": 20,
   "id": "a8ab9941",
   "metadata": {},
   "outputs": [
    {
     "data": {
      "text/plain": [
       "stn_code                       144074\n",
       "sampling_date                       0\n",
       "state                               0\n",
       "location                            0\n",
       "agency                         149478\n",
       "type                                0\n",
       "so2                             34188\n",
       "no2                             15848\n",
       "rspm                                0\n",
       "spm                                 0\n",
       "location_monitoring_station     22098\n",
       "pm2_5                          421035\n",
       "date                                0\n",
       "dtype: int64"
      ]
     },
     "execution_count": 20,
     "metadata": {},
     "output_type": "execute_result"
    }
   ],
   "source": [
    "data3.isnull().sum()"
   ]
  },
  {
   "cell_type": "markdown",
   "id": "4530068a",
   "metadata": {},
   "source": [
    "## Data cleaning"
   ]
  },
  {
   "cell_type": "markdown",
   "id": "9db78e2c",
   "metadata": {},
   "source": [
    "* As we saw in the filtered data so2, no2, pm2_5 and location_monitoring_station having large null values.\n",
    "\n",
    "* **so2  :** For so2 we can fill it through the forward filling method.\n",
    "\n",
    "* **no2  :** For no2 we can also fill it through the forward filling method.\n",
    "\n",
    "* **pm2_5:** In pm2_5 column having continues null values so we use the forward and backward filling method.\n",
    "\n",
    "* **location_monitoring_station:** In this column also having continues null vlaues so we can use the forward and backward filling method."
   ]
  },
  {
   "cell_type": "code",
   "execution_count": 21,
   "id": "592da98d",
   "metadata": {},
   "outputs": [],
   "source": [
    "data3['so2'].fillna(method='ffill',inplace=True)\n",
    "\n",
    "data3['no2'].fillna(method='ffill',inplace=True)\n",
    "\n",
    "data3['pm2_5'].fillna(method='ffill',inplace=True)\n",
    "\n",
    "data3['pm2_5'].fillna(method='bfill',inplace=True)\n",
    "\n",
    "data3['location_monitoring_station'].fillna(method='ffill',inplace=True)\n",
    "\n",
    "data3['location_monitoring_station'].fillna(method='bfill',inplace=True)\n"
   ]
  },
  {
   "cell_type": "markdown",
   "id": "60107a2a",
   "metadata": {},
   "source": [
    "## Dropping unnessary column's"
   ]
  },
  {
   "cell_type": "markdown",
   "id": "1bca13d0",
   "metadata": {},
   "source": [
    "* stn_code and agency is irrelevent to our analysis so we can drop the columns."
   ]
  },
  {
   "cell_type": "code",
   "execution_count": 22,
   "id": "9d208b81",
   "metadata": {},
   "outputs": [],
   "source": [
    "data3.drop(columns=['stn_code','agency'],inplace = True)\n"
   ]
  },
  {
   "cell_type": "code",
   "execution_count": 23,
   "id": "9954d4b2",
   "metadata": {},
   "outputs": [
    {
     "data": {
      "text/html": [
       "<div>\n",
       "<style scoped>\n",
       "    .dataframe tbody tr th:only-of-type {\n",
       "        vertical-align: middle;\n",
       "    }\n",
       "\n",
       "    .dataframe tbody tr th {\n",
       "        vertical-align: top;\n",
       "    }\n",
       "\n",
       "    .dataframe thead th {\n",
       "        text-align: right;\n",
       "    }\n",
       "</style>\n",
       "<table border=\"1\" class=\"dataframe\">\n",
       "  <thead>\n",
       "    <tr style=\"text-align: right;\">\n",
       "      <th></th>\n",
       "      <th>sampling_date</th>\n",
       "      <th>state</th>\n",
       "      <th>location</th>\n",
       "      <th>type</th>\n",
       "      <th>so2</th>\n",
       "      <th>no2</th>\n",
       "      <th>rspm</th>\n",
       "      <th>spm</th>\n",
       "      <th>location_monitoring_station</th>\n",
       "      <th>pm2_5</th>\n",
       "      <th>date</th>\n",
       "    </tr>\n",
       "  </thead>\n",
       "  <tbody>\n",
       "    <tr>\n",
       "      <th>31</th>\n",
       "      <td>January - M011991</td>\n",
       "      <td>Andhra Pradesh</td>\n",
       "      <td>Hyderabad</td>\n",
       "      <td>Industrial</td>\n",
       "      <td>28.7</td>\n",
       "      <td>16.2</td>\n",
       "      <td>143.7</td>\n",
       "      <td>77.0</td>\n",
       "      <td>C.I.T.D., Balanagar, Plot no. A1 to A8, IDA, H...</td>\n",
       "      <td>29.0</td>\n",
       "      <td>01-01-1991</td>\n",
       "    </tr>\n",
       "    <tr>\n",
       "      <th>74</th>\n",
       "      <td>January - M011992</td>\n",
       "      <td>Andhra Pradesh</td>\n",
       "      <td>Hyderabad</td>\n",
       "      <td>Industrial</td>\n",
       "      <td>24.5</td>\n",
       "      <td>11.5</td>\n",
       "      <td>143.7</td>\n",
       "      <td>118.0</td>\n",
       "      <td>C.I.T.D., Balanagar, Plot no. A1 to A8, IDA, H...</td>\n",
       "      <td>29.0</td>\n",
       "      <td>01-01-1992</td>\n",
       "    </tr>\n",
       "    <tr>\n",
       "      <th>153</th>\n",
       "      <td>January - M011993</td>\n",
       "      <td>Andhra Pradesh</td>\n",
       "      <td>Hyderabad</td>\n",
       "      <td>Industrial</td>\n",
       "      <td>9.9</td>\n",
       "      <td>11.6</td>\n",
       "      <td>143.7</td>\n",
       "      <td>118.0</td>\n",
       "      <td>C.I.T.D., Balanagar, Plot no. A1 to A8, IDA, H...</td>\n",
       "      <td>29.0</td>\n",
       "      <td>01-01-1993</td>\n",
       "    </tr>\n",
       "    <tr>\n",
       "      <th>191</th>\n",
       "      <td>January - M011994</td>\n",
       "      <td>Andhra Pradesh</td>\n",
       "      <td>Hyderabad</td>\n",
       "      <td>Industrial</td>\n",
       "      <td>9.7</td>\n",
       "      <td>9.0</td>\n",
       "      <td>143.7</td>\n",
       "      <td>98.0</td>\n",
       "      <td>C.I.T.D., Balanagar, Plot no. A1 to A8, IDA, H...</td>\n",
       "      <td>29.0</td>\n",
       "      <td>01-01-1994</td>\n",
       "    </tr>\n",
       "    <tr>\n",
       "      <th>271</th>\n",
       "      <td>January_1995</td>\n",
       "      <td>Andhra Pradesh</td>\n",
       "      <td>Hyderabad</td>\n",
       "      <td>Industrial</td>\n",
       "      <td>10.1</td>\n",
       "      <td>11.1</td>\n",
       "      <td>143.7</td>\n",
       "      <td>39.0</td>\n",
       "      <td>C.I.T.D., Balanagar, Plot no. A1 to A8, IDA, H...</td>\n",
       "      <td>29.0</td>\n",
       "      <td>01-01-1995</td>\n",
       "    </tr>\n",
       "  </tbody>\n",
       "</table>\n",
       "</div>"
      ],
      "text/plain": [
       "         sampling_date           state   location        type   so2   no2  \\\n",
       "31   January - M011991  Andhra Pradesh  Hyderabad  Industrial  28.7  16.2   \n",
       "74   January - M011992  Andhra Pradesh  Hyderabad  Industrial  24.5  11.5   \n",
       "153  January - M011993  Andhra Pradesh  Hyderabad  Industrial   9.9  11.6   \n",
       "191  January - M011994  Andhra Pradesh  Hyderabad  Industrial   9.7   9.0   \n",
       "271       January_1995  Andhra Pradesh  Hyderabad  Industrial  10.1  11.1   \n",
       "\n",
       "      rspm    spm                        location_monitoring_station  pm2_5  \\\n",
       "31   143.7   77.0  C.I.T.D., Balanagar, Plot no. A1 to A8, IDA, H...   29.0   \n",
       "74   143.7  118.0  C.I.T.D., Balanagar, Plot no. A1 to A8, IDA, H...   29.0   \n",
       "153  143.7  118.0  C.I.T.D., Balanagar, Plot no. A1 to A8, IDA, H...   29.0   \n",
       "191  143.7   98.0  C.I.T.D., Balanagar, Plot no. A1 to A8, IDA, H...   29.0   \n",
       "271  143.7   39.0  C.I.T.D., Balanagar, Plot no. A1 to A8, IDA, H...   29.0   \n",
       "\n",
       "           date  \n",
       "31   01-01-1991  \n",
       "74   01-01-1992  \n",
       "153  01-01-1993  \n",
       "191  01-01-1994  \n",
       "271  01-01-1995  "
      ]
     },
     "execution_count": 23,
     "metadata": {},
     "output_type": "execute_result"
    }
   ],
   "source": [
    "data3.head()"
   ]
  },
  {
   "cell_type": "code",
   "execution_count": 24,
   "id": "f800925e",
   "metadata": {},
   "outputs": [
    {
     "data": {
      "text/plain": [
       "(430349, 11)"
      ]
     },
     "execution_count": 24,
     "metadata": {},
     "output_type": "execute_result"
    }
   ],
   "source": [
    "data3.shape"
   ]
  },
  {
   "cell_type": "code",
   "execution_count": 25,
   "id": "5d77e754",
   "metadata": {},
   "outputs": [
    {
     "data": {
      "text/plain": [
       "sampling_date                  0\n",
       "state                          0\n",
       "location                       0\n",
       "type                           0\n",
       "so2                            0\n",
       "no2                            0\n",
       "rspm                           0\n",
       "spm                            0\n",
       "location_monitoring_station    0\n",
       "pm2_5                          0\n",
       "date                           0\n",
       "dtype: int64"
      ]
     },
     "execution_count": 25,
     "metadata": {},
     "output_type": "execute_result"
    }
   ],
   "source": [
    "# checking wheather null value is present or not\n",
    "data3.isnull().sum()"
   ]
  },
  {
   "cell_type": "markdown",
   "id": "7d849e09",
   "metadata": {},
   "source": [
    "## Index resting"
   ]
  },
  {
   "cell_type": "code",
   "execution_count": 26,
   "id": "bd1c9f68",
   "metadata": {},
   "outputs": [],
   "source": [
    "data3.reset_index(inplace=True)\n"
   ]
  },
  {
   "cell_type": "code",
   "execution_count": 28,
   "id": "09162258",
   "metadata": {},
   "outputs": [],
   "source": [
    "data3.drop(columns=['index'],inplace=True)"
   ]
  },
  {
   "cell_type": "code",
   "execution_count": 29,
   "id": "b695f734",
   "metadata": {},
   "outputs": [
    {
     "data": {
      "text/html": [
       "<div>\n",
       "<style scoped>\n",
       "    .dataframe tbody tr th:only-of-type {\n",
       "        vertical-align: middle;\n",
       "    }\n",
       "\n",
       "    .dataframe tbody tr th {\n",
       "        vertical-align: top;\n",
       "    }\n",
       "\n",
       "    .dataframe thead th {\n",
       "        text-align: right;\n",
       "    }\n",
       "</style>\n",
       "<table border=\"1\" class=\"dataframe\">\n",
       "  <thead>\n",
       "    <tr style=\"text-align: right;\">\n",
       "      <th></th>\n",
       "      <th>sampling_date</th>\n",
       "      <th>state</th>\n",
       "      <th>location</th>\n",
       "      <th>type</th>\n",
       "      <th>so2</th>\n",
       "      <th>no2</th>\n",
       "      <th>rspm</th>\n",
       "      <th>spm</th>\n",
       "      <th>location_monitoring_station</th>\n",
       "      <th>pm2_5</th>\n",
       "      <th>date</th>\n",
       "    </tr>\n",
       "  </thead>\n",
       "  <tbody>\n",
       "    <tr>\n",
       "      <th>0</th>\n",
       "      <td>January - M011991</td>\n",
       "      <td>Andhra Pradesh</td>\n",
       "      <td>Hyderabad</td>\n",
       "      <td>Industrial</td>\n",
       "      <td>28.7</td>\n",
       "      <td>16.2</td>\n",
       "      <td>143.7</td>\n",
       "      <td>77.0</td>\n",
       "      <td>C.I.T.D., Balanagar, Plot no. A1 to A8, IDA, H...</td>\n",
       "      <td>29.0</td>\n",
       "      <td>01-01-1991</td>\n",
       "    </tr>\n",
       "    <tr>\n",
       "      <th>1</th>\n",
       "      <td>January - M011992</td>\n",
       "      <td>Andhra Pradesh</td>\n",
       "      <td>Hyderabad</td>\n",
       "      <td>Industrial</td>\n",
       "      <td>24.5</td>\n",
       "      <td>11.5</td>\n",
       "      <td>143.7</td>\n",
       "      <td>118.0</td>\n",
       "      <td>C.I.T.D., Balanagar, Plot no. A1 to A8, IDA, H...</td>\n",
       "      <td>29.0</td>\n",
       "      <td>01-01-1992</td>\n",
       "    </tr>\n",
       "    <tr>\n",
       "      <th>2</th>\n",
       "      <td>January - M011993</td>\n",
       "      <td>Andhra Pradesh</td>\n",
       "      <td>Hyderabad</td>\n",
       "      <td>Industrial</td>\n",
       "      <td>9.9</td>\n",
       "      <td>11.6</td>\n",
       "      <td>143.7</td>\n",
       "      <td>118.0</td>\n",
       "      <td>C.I.T.D., Balanagar, Plot no. A1 to A8, IDA, H...</td>\n",
       "      <td>29.0</td>\n",
       "      <td>01-01-1993</td>\n",
       "    </tr>\n",
       "    <tr>\n",
       "      <th>3</th>\n",
       "      <td>January - M011994</td>\n",
       "      <td>Andhra Pradesh</td>\n",
       "      <td>Hyderabad</td>\n",
       "      <td>Industrial</td>\n",
       "      <td>9.7</td>\n",
       "      <td>9.0</td>\n",
       "      <td>143.7</td>\n",
       "      <td>98.0</td>\n",
       "      <td>C.I.T.D., Balanagar, Plot no. A1 to A8, IDA, H...</td>\n",
       "      <td>29.0</td>\n",
       "      <td>01-01-1994</td>\n",
       "    </tr>\n",
       "    <tr>\n",
       "      <th>4</th>\n",
       "      <td>January_1995</td>\n",
       "      <td>Andhra Pradesh</td>\n",
       "      <td>Hyderabad</td>\n",
       "      <td>Industrial</td>\n",
       "      <td>10.1</td>\n",
       "      <td>11.1</td>\n",
       "      <td>143.7</td>\n",
       "      <td>39.0</td>\n",
       "      <td>C.I.T.D., Balanagar, Plot no. A1 to A8, IDA, H...</td>\n",
       "      <td>29.0</td>\n",
       "      <td>01-01-1995</td>\n",
       "    </tr>\n",
       "  </tbody>\n",
       "</table>\n",
       "</div>"
      ],
      "text/plain": [
       "       sampling_date           state   location        type   so2   no2  \\\n",
       "0  January - M011991  Andhra Pradesh  Hyderabad  Industrial  28.7  16.2   \n",
       "1  January - M011992  Andhra Pradesh  Hyderabad  Industrial  24.5  11.5   \n",
       "2  January - M011993  Andhra Pradesh  Hyderabad  Industrial   9.9  11.6   \n",
       "3  January - M011994  Andhra Pradesh  Hyderabad  Industrial   9.7   9.0   \n",
       "4       January_1995  Andhra Pradesh  Hyderabad  Industrial  10.1  11.1   \n",
       "\n",
       "    rspm    spm                        location_monitoring_station  pm2_5  \\\n",
       "0  143.7   77.0  C.I.T.D., Balanagar, Plot no. A1 to A8, IDA, H...   29.0   \n",
       "1  143.7  118.0  C.I.T.D., Balanagar, Plot no. A1 to A8, IDA, H...   29.0   \n",
       "2  143.7  118.0  C.I.T.D., Balanagar, Plot no. A1 to A8, IDA, H...   29.0   \n",
       "3  143.7   98.0  C.I.T.D., Balanagar, Plot no. A1 to A8, IDA, H...   29.0   \n",
       "4  143.7   39.0  C.I.T.D., Balanagar, Plot no. A1 to A8, IDA, H...   29.0   \n",
       "\n",
       "         date  \n",
       "0  01-01-1991  \n",
       "1  01-01-1992  \n",
       "2  01-01-1993  \n",
       "3  01-01-1994  \n",
       "4  01-01-1995  "
      ]
     },
     "execution_count": 29,
     "metadata": {},
     "output_type": "execute_result"
    }
   ],
   "source": [
    "data3.head()"
   ]
  },
  {
   "cell_type": "markdown",
   "id": "9259ffda",
   "metadata": {},
   "source": [
    "# Quesion part"
   ]
  },
  {
   "cell_type": "markdown",
   "id": "192c8451",
   "metadata": {},
   "source": [
    "# 1.How bad is india air pollution with type.\n",
    "\n",
    "* India's air pollution is caused by a variety of sources, including industrial activity, transportation, and residential sources such as cooking and heating with solid fuels. Industrial pollution is a major contributor to air pollution in many parts of India, particularly in urban areas with large concentrations of factories and other industrial facilities. \n",
    "\n",
    " * Some of the major industrial sources of pollution include power plants, chemical plants, and factories that produce metals, textiles, and other products. Residential sources of pollution, such as the use of solid fuels like wood and charcoal for cooking and heating, also contribute to poor air quality in many parts of the country. The combination of these various sources has made air pollution a significant public health concern in India, with serious implications for respiratory health, cardiovascular disease, and other illnesses."
   ]
  },
  {
   "cell_type": "code",
   "execution_count": 40,
   "id": "f1a0e8ed",
   "metadata": {},
   "outputs": [
    {
     "data": {
      "text/plain": [
       "<seaborn.axisgrid.FacetGrid at 0x25301b4e910>"
      ]
     },
     "execution_count": 40,
     "metadata": {},
     "output_type": "execute_result"
    },
    {
     "data": {
      "image/png": "[encoded data removed]",
      "text/plain": [
       "<Figure size 1440x360 with 1 Axes>"
      ]
     },
     "metadata": {
      "needs_background": "light"
     },
     "output_type": "display_data"
    }
   ],
   "source": [
    "sns.catplot(x = \"type\", kind = \"count\",  data = df, height=5, aspect = 4)\n"
   ]
  },
  {
   "cell_type": "markdown",
   "id": "b8494da1",
   "metadata": {},
   "source": [
    "# 2.what are the source of inida's polluted air\n",
    "\n",
    "* NO2 and SO2 are two common air pollutants that are often analyzed in air quality assessments.\n",
    "\n",
    "* NO2 (Nitrogen Dioxide) is a reddish-brown gas that forms when nitrogen oxide (NO) reacts with oxygen in the air. It is primarily produced by combustion processes such as fossil fuel burning in vehicles, power plants, and industrial facilities. High levels of NO2 can irritate the respiratory system, and prolonged exposure to NO2 can cause respiratory problems such as bronchitis and asthma.\n",
    "\n",
    "* SO2 (Sulfur Dioxide) is a colorless gas with a sharp, pungent odor that is produced when sulfur-containing fuels such as coal and oil are burned. It is a major contributor to acid rain and can cause respiratory problems and other health issues when present in high concentrations. SO2 is also a precursor to fine particulate matter (PM2.5), which is a major air pollutant with significant negative impacts on public health."
   ]
  },
  {
   "cell_type": "code",
   "execution_count": 41,
   "id": "5c00e036",
   "metadata": {},
   "outputs": [
    {
     "data": {
      "text/plain": [
       "<AxesSubplot:xlabel='type'>"
      ]
     },
     "execution_count": 41,
     "metadata": {},
     "output_type": "execute_result"
    },
    {
     "data": {
      "image/png": "[encoded data removed]",
      "text/plain": [
       "<Figure size 1440x720 with 1 Axes>"
      ]
     },
     "metadata": {
      "needs_background": "light"
     },
     "output_type": "display_data"
    }
   ],
   "source": [
    "grp = df.groupby([\"type\"]).mean()[\"so2\"].to_frame()\n",
    "grp.plot.bar(figsize = (20,10), color={\"red\"})"
   ]
  },
  {
   "cell_type": "code",
   "execution_count": 42,
   "id": "71b5dead",
   "metadata": {},
   "outputs": [
    {
     "data": {
      "text/plain": [
       "<AxesSubplot:xlabel='type'>"
      ]
     },
     "execution_count": 42,
     "metadata": {},
     "output_type": "execute_result"
    },
    {
     "data": {
      "image/png": "[encoded data removed]",
      "text/plain": [
       "<Figure size 1440x720 with 1 Axes>"
      ]
     },
     "metadata": {
      "needs_background": "light"
     },
     "output_type": "display_data"
    }
   ],
   "source": [
    "grp = df.groupby([\"type\"]).mean()[\"no2\"].to_frame()\n",
    "grp.plot.bar(figsize = (20,10), color={\"green\"})"
   ]
  },
  {
   "cell_type": "markdown",
   "id": "861834fe",
   "metadata": {},
   "source": [
    "# 3. which city will improve the AQI\n",
    "* AQI stands for Air Quality Index. It is a measure of how polluted the air is in a particular location, and is used by government agencies and health organizations to inform the public about the health risks associated with air pollution.\n",
    "\n",
    "* The AQI is based on measurements of various pollutants in the air, including particulate matter, ozone, nitrogen dioxide, and sulfur dioxide. These measurements are combined into a single index that ranges from 0 to 500 or higher, with higher values indicating greater levels of air pollution and associated health risks."
   ]
  },
  {
   "cell_type": "code",
   "execution_count": 43,
   "id": "da79890a",
   "metadata": {},
   "outputs": [
    {
     "data": {
      "text/plain": [
       "<AxesSubplot:xlabel='state'>"
      ]
     },
     "execution_count": 43,
     "metadata": {},
     "output_type": "execute_result"
    },
    {
     "data": {
      "image/png": "[encoded data removed]",
      "text/plain": [
       "<Figure size 1440x720 with 1 Axes>"
      ]
     },
     "metadata": {
      "needs_background": "light"
     },
     "output_type": "display_data"
    }
   ],
   "source": [
    "df[['so2', 'state']].groupby(['state']).median().sort_values(\"so2\", ascending = False).plot.bar(figsize=(20,10))"
   ]
  },
  {
   "cell_type": "code",
   "execution_count": 47,
   "id": "9747dee6",
   "metadata": {},
   "outputs": [
    {
     "data": {
      "text/plain": [
       "<AxesSubplot:xlabel='state'>"
      ]
     },
     "execution_count": 47,
     "metadata": {},
     "output_type": "execute_result"
    },
    {
     "data": {
      "image/png": "[encoded data removed]",
      "text/plain": [
       "<Figure size 1440x720 with 1 Axes>"
      ]
     },
     "metadata": {
      "needs_background": "light"
     },
     "output_type": "display_data"
    }
   ],
   "source": [
    "df[['no2', 'state']].groupby(['state']).median().sort_values(\"no2\", ascending = False).plot.bar(figsize=(20,10))"
   ]
  },
  {
   "cell_type": "code",
   "execution_count": 48,
   "id": "d468ff2a",
   "metadata": {},
   "outputs": [
    {
     "data": {
      "text/plain": [
       "<AxesSubplot:xlabel='state'>"
      ]
     },
     "execution_count": 48,
     "metadata": {},
     "output_type": "execute_result"
    },
    {
     "data": {
      "image/png": "[encoded data removed]",
      "text/plain": [
       "<Figure size 1440x720 with 1 Axes>"
      ]
     },
     "metadata": {
      "needs_background": "light"
     },
     "output_type": "display_data"
    }
   ],
   "source": [
    "df[['spm', 'state']].groupby(['state']).median().sort_values(\"spm\", ascending = False).plot.bar(figsize=(20,10))"
   ]
  },
  {
   "cell_type": "markdown",
   "id": "437af138",
   "metadata": {},
   "source": [
    "## 4. what effects does the poor air quality have on health\n",
    "\n"
   ]
  },
  {
   "cell_type": "markdown",
   "id": "f01e1877",
   "metadata": {},
   "source": [
    "*  1.Cardiovascular Diseases: Air pollution has been linked to an increased risk of cardiovascular diseases such as stroke, heart disease, and heart failure. Exposure to air pollution can cause inflammation in the body, which can lead to the development of these diseases.\n",
    "\n",
    "* 2.Cancer: Exposure to certain types of air pollution, such as diesel exhaust and airborne particles, has been linked to an increased risk of cancer, including lung cancer.\n",
    "\n",
    "* 3.Reproductive and Developmental Problems: Exposure to air pollution can have negative effects on reproductive and developmental health. For example, exposure to air pollution during pregnancy has been linked to low birth weight, premature birth, and developmental problems.\n",
    "\n",
    "* 4.Neurological Problems: Air pollution can have negative effects on the brain and nervous system, and has been linked to cognitive impairment and an increased risk of dementia.\n",
    "\n",
    "* 5.Allergies: Poor air quality can worsen allergies and increase the risk of developing new allergies."
   ]
  },
  {
   "cell_type": "markdown",
   "id": "ad85ef05",
   "metadata": {},
   "source": [
    "# Conclusion\n",
    "\n",
    "* From the above analysis, we see that the majorly affected states in India by air pollution belong to the northern region.\n",
    "* States like Delhi, Punjab, Uttar Pradesh, Haryana are heavily polluted and require immediate action.\n",
    "* We also saw that even if a state had a high level of pollutants, there were some regions in the states that were not polluted.\n",
    "\n",
    "* We also see from statistical analysis that the states with high rspm concentrations also have high spm concentrations."
   ]
  },
  {
   "cell_type": "code",
   "execution_count": null,
   "id": "536502ec",
   "metadata": {},
   "outputs": [],
   "source": []
  }
 ],
 "metadata": {
  "kernelspec": {
   "display_name": "Python 3 (ipykernel)",
   "language": "python",
   "name": "python3"
  },
  "language_info": {
   "codemirror_mode": {
    "name": "ipython",
    "version": 3
   },
   "file_extension": ".py",
   "mimetype": "text/x-python",
   "name": "python",
   "nbconvert_exporter": "python",
   "pygments_lexer": "ipython3",
   "version": "3.9.12"
  }
 },
 "nbformat": 4,
 "nbformat_minor": 5
}
